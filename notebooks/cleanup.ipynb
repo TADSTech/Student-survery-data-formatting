{
 "cells": [
  {
   "cell_type": "markdown",
   "id": "c8bc6884",
   "metadata": {},
   "source": [
    "# Cleaning up google forms data"
   ]
  },
  {
   "cell_type": "markdown",
   "id": "d27abc4d",
   "metadata": {},
   "source": [
    "**Today we will be cleanning up some exported forms data** <br>\n",
    "**We will be using the `pandas` library to do this** <br>\n",
    "Pandas is a Python library used for working with data sets. It has functions for analyzing, cleaning, exploring, and manipulating data.\n"
   ]
  },
  {
   "cell_type": "code",
   "execution_count": 1,
   "id": "62bf79d6",
   "metadata": {},
   "outputs": [],
   "source": [
    "# first we import the necessary libraries\n",
    "import pandas as pd\n",
    "import numpy as np\n",
    "\n",
    "\n",
    "# and then we load in the data(student data as std)\n",
    "std = pd.read_csv('../data/raw/forms_responses_12955.csv')"
   ]
  },
  {
   "cell_type": "markdown",
   "id": "8d0a21f9",
   "metadata": {},
   "source": [
    "lets get an overview of the data"
   ]
  },
  {
   "cell_type": "code",
   "execution_count": 3,
   "id": "8017b137",
   "metadata": {},
   "outputs": [
    {
     "data": {
      "text/html": [
       "<div>\n",
       "<style scoped>\n",
       "    .dataframe tbody tr th:only-of-type {\n",
       "        vertical-align: middle;\n",
       "    }\n",
       "\n",
       "    .dataframe tbody tr th {\n",
       "        vertical-align: top;\n",
       "    }\n",
       "\n",
       "    .dataframe thead th {\n",
       "        text-align: right;\n",
       "    }\n",
       "</style>\n",
       "<table border=\"1\" class=\"dataframe\">\n",
       "  <thead>\n",
       "    <tr style=\"text-align: right;\">\n",
       "      <th></th>\n",
       "      <th>Timestamp</th>\n",
       "      <th>Student ID</th>\n",
       "      <th>Age</th>\n",
       "      <th>Gender</th>\n",
       "      <th>Department</th>\n",
       "      <th>GPA</th>\n",
       "      <th>Satisfaction (1-5)</th>\n",
       "      <th>Comments</th>\n",
       "    </tr>\n",
       "  </thead>\n",
       "  <tbody>\n",
       "    <tr>\n",
       "      <th>3989</th>\n",
       "      <td>09/30/2023 20:55:00</td>\n",
       "      <td>STUD8886</td>\n",
       "      <td>24</td>\n",
       "      <td>Female</td>\n",
       "      <td>Physics</td>\n",
       "      <td>2.17</td>\n",
       "      <td>1.0</td>\n",
       "      <td>NaN</td>\n",
       "    </tr>\n",
       "    <tr>\n",
       "      <th>15772</th>\n",
       "      <td>09/23/2023 16:15:00</td>\n",
       "      <td>STUD3639</td>\n",
       "      <td>19</td>\n",
       "      <td>Male</td>\n",
       "      <td>Zoology</td>\n",
       "      <td>0.18</td>\n",
       "      <td>1.0</td>\n",
       "      <td>NaN</td>\n",
       "    </tr>\n",
       "    <tr>\n",
       "      <th>245</th>\n",
       "      <td>09/06/2023 15:17:00</td>\n",
       "      <td>STUD4169</td>\n",
       "      <td>19</td>\n",
       "      <td>Malee</td>\n",
       "      <td>Physics</td>\n",
       "      <td>3.38</td>\n",
       "      <td>1.0</td>\n",
       "      <td>Comment 245: The course was great!</td>\n",
       "    </tr>\n",
       "    <tr>\n",
       "      <th>182</th>\n",
       "      <td>09/03/2023 11:07:00</td>\n",
       "      <td>STUD5350</td>\n",
       "      <td>24</td>\n",
       "      <td>Male</td>\n",
       "      <td>Geophysics</td>\n",
       "      <td>1.5</td>\n",
       "      <td>3.0</td>\n",
       "      <td>Comment 182: The course was great!</td>\n",
       "    </tr>\n",
       "    <tr>\n",
       "      <th>1057</th>\n",
       "      <td>09/08/2023 12:38:00</td>\n",
       "      <td>STUD4776</td>\n",
       "      <td>100</td>\n",
       "      <td>Male</td>\n",
       "      <td>Zoology</td>\n",
       "      <td>0.42</td>\n",
       "      <td>1.0</td>\n",
       "      <td>NaN</td>\n",
       "    </tr>\n",
       "    <tr>\n",
       "      <th>12682</th>\n",
       "      <td>09/23/2023 00:48:00</td>\n",
       "      <td>STUD3071</td>\n",
       "      <td>15</td>\n",
       "      <td>Male</td>\n",
       "      <td>Computer Science</td>\n",
       "      <td>2.63</td>\n",
       "      <td>1.0</td>\n",
       "      <td>NaN</td>\n",
       "    </tr>\n",
       "    <tr>\n",
       "      <th>11188</th>\n",
       "      <td>09/29/2023 13:10:00</td>\n",
       "      <td>STUD3428</td>\n",
       "      <td>15</td>\n",
       "      <td>Male</td>\n",
       "      <td>Zoology</td>\n",
       "      <td>3.5</td>\n",
       "      <td>3.0</td>\n",
       "      <td>NaN</td>\n",
       "    </tr>\n",
       "    <tr>\n",
       "      <th>7532</th>\n",
       "      <td>09/03/2023 01:02:00</td>\n",
       "      <td>STUD7072</td>\n",
       "      <td>18</td>\n",
       "      <td>Other</td>\n",
       "      <td>Geophysics</td>\n",
       "      <td>5.0</td>\n",
       "      <td>6.0</td>\n",
       "      <td>This is spam... ignore me</td>\n",
       "    </tr>\n",
       "    <tr>\n",
       "      <th>4885</th>\n",
       "      <td>09/26/2023 23:27:00</td>\n",
       "      <td>STUD6728</td>\n",
       "      <td>19</td>\n",
       "      <td>Male</td>\n",
       "      <td>Cell Bio</td>\n",
       "      <td>3.78</td>\n",
       "      <td>3.0</td>\n",
       "      <td>This is spam... ignore me</td>\n",
       "    </tr>\n",
       "    <tr>\n",
       "      <th>9428</th>\n",
       "      <td>09/09/2023 18:26:00</td>\n",
       "      <td>STUD3962</td>\n",
       "      <td>NaN</td>\n",
       "      <td>Femal</td>\n",
       "      <td>Physics</td>\n",
       "      <td>2.91</td>\n",
       "      <td>NaN</td>\n",
       "      <td>This is spam... ignore me</td>\n",
       "    </tr>\n",
       "  </tbody>\n",
       "</table>\n",
       "</div>"
      ],
      "text/plain": [
       "                 Timestamp Student ID  Age  Gender        Department   GPA  \\\n",
       "3989   09/30/2023 20:55:00   STUD8886   24  Female           Physics  2.17   \n",
       "15772  09/23/2023 16:15:00   STUD3639   19    Male           Zoology  0.18   \n",
       "245    09/06/2023 15:17:00   STUD4169   19   Malee           Physics  3.38   \n",
       "182    09/03/2023 11:07:00   STUD5350   24    Male        Geophysics   1.5   \n",
       "1057   09/08/2023 12:38:00   STUD4776  100    Male           Zoology  0.42   \n",
       "12682  09/23/2023 00:48:00   STUD3071   15    Male  Computer Science  2.63   \n",
       "11188  09/29/2023 13:10:00   STUD3428   15    Male           Zoology   3.5   \n",
       "7532   09/03/2023 01:02:00   STUD7072   18   Other        Geophysics   5.0   \n",
       "4885   09/26/2023 23:27:00   STUD6728   19    Male          Cell Bio  3.78   \n",
       "9428   09/09/2023 18:26:00   STUD3962  NaN   Femal           Physics  2.91   \n",
       "\n",
       "       Satisfaction (1-5)                            Comments  \n",
       "3989                  1.0                                 NaN  \n",
       "15772                 1.0                                 NaN  \n",
       "245                   1.0  Comment 245: The course was great!  \n",
       "182                   3.0  Comment 182: The course was great!  \n",
       "1057                  1.0                                 NaN  \n",
       "12682                 1.0                                 NaN  \n",
       "11188                 3.0                                 NaN  \n",
       "7532                  6.0           This is spam... ignore me  \n",
       "4885                  3.0           This is spam... ignore me  \n",
       "9428                  NaN           This is spam... ignore me  "
      ]
     },
     "execution_count": 3,
     "metadata": {},
     "output_type": "execute_result"
    }
   ],
   "source": [
    "std.sample(10)"
   ]
  },
  {
   "cell_type": "code",
   "execution_count": 4,
   "id": "6ce114e9",
   "metadata": {},
   "outputs": [
    {
     "name": "stdout",
     "output_type": "stream",
     "text": [
      "<class 'pandas.core.frame.DataFrame'>\n",
      "RangeIndex: 16000 entries, 0 to 15999\n",
      "Data columns (total 8 columns):\n",
      " #   Column              Non-Null Count  Dtype  \n",
      "---  ------              --------------  -----  \n",
      " 0   Timestamp           16000 non-null  object \n",
      " 1   Student ID          16000 non-null  object \n",
      " 2   Age                 14769 non-null  object \n",
      " 3   Gender              15016 non-null  object \n",
      " 4   Department          15215 non-null  object \n",
      " 5   GPA                 14896 non-null  object \n",
      " 6   Satisfaction (1-5)  14845 non-null  float64\n",
      " 7   Comments            11174 non-null  object \n",
      "dtypes: float64(1), object(7)\n",
      "memory usage: 1000.1+ KB\n"
     ]
    }
   ],
   "source": [
    "std.info()"
   ]
  },
  {
   "cell_type": "code",
   "execution_count": 5,
   "id": "0fe51eec",
   "metadata": {},
   "outputs": [
    {
     "data": {
      "text/html": [
       "<div>\n",
       "<style scoped>\n",
       "    .dataframe tbody tr th:only-of-type {\n",
       "        vertical-align: middle;\n",
       "    }\n",
       "\n",
       "    .dataframe tbody tr th {\n",
       "        vertical-align: top;\n",
       "    }\n",
       "\n",
       "    .dataframe thead th {\n",
       "        text-align: right;\n",
       "    }\n",
       "</style>\n",
       "<table border=\"1\" class=\"dataframe\">\n",
       "  <thead>\n",
       "    <tr style=\"text-align: right;\">\n",
       "      <th></th>\n",
       "      <th>Satisfaction (1-5)</th>\n",
       "    </tr>\n",
       "  </thead>\n",
       "  <tbody>\n",
       "    <tr>\n",
       "      <th>count</th>\n",
       "      <td>14845.000000</td>\n",
       "    </tr>\n",
       "    <tr>\n",
       "      <th>mean</th>\n",
       "      <td>3.103941</td>\n",
       "    </tr>\n",
       "    <tr>\n",
       "      <th>std</th>\n",
       "      <td>1.660700</td>\n",
       "    </tr>\n",
       "    <tr>\n",
       "      <th>min</th>\n",
       "      <td>0.000000</td>\n",
       "    </tr>\n",
       "    <tr>\n",
       "      <th>25%</th>\n",
       "      <td>2.000000</td>\n",
       "    </tr>\n",
       "    <tr>\n",
       "      <th>50%</th>\n",
       "      <td>3.000000</td>\n",
       "    </tr>\n",
       "    <tr>\n",
       "      <th>75%</th>\n",
       "      <td>4.000000</td>\n",
       "    </tr>\n",
       "    <tr>\n",
       "      <th>max</th>\n",
       "      <td>7.000000</td>\n",
       "    </tr>\n",
       "  </tbody>\n",
       "</table>\n",
       "</div>"
      ],
      "text/plain": [
       "       Satisfaction (1-5)\n",
       "count        14845.000000\n",
       "mean             3.103941\n",
       "std              1.660700\n",
       "min              0.000000\n",
       "25%              2.000000\n",
       "50%              3.000000\n",
       "75%              4.000000\n",
       "max              7.000000"
      ]
     },
     "execution_count": 5,
     "metadata": {},
     "output_type": "execute_result"
    }
   ],
   "source": [
    "std.describe()"
   ]
  },
  {
   "cell_type": "code",
   "execution_count": 6,
   "id": "0467e1aa",
   "metadata": {},
   "outputs": [
    {
     "data": {
      "text/plain": [
       "Index(['Timestamp', 'Student ID', 'Age', 'Gender', 'Department', 'GPA',\n",
       "       'Satisfaction (1-5)', 'Comments'],\n",
       "      dtype='object')"
      ]
     },
     "execution_count": 6,
     "metadata": {},
     "output_type": "execute_result"
    }
   ],
   "source": [
    "std.columns"
   ]
  },
  {
   "cell_type": "code",
   "execution_count": 7,
   "id": "b765267f",
   "metadata": {},
   "outputs": [
    {
     "data": {
      "text/plain": [
       "Timestamp              object\n",
       "Student ID             object\n",
       "Age                    object\n",
       "Gender                 object\n",
       "Department             object\n",
       "GPA                    object\n",
       "Satisfaction (1-5)    float64\n",
       "Comments               object\n",
       "dtype: object"
      ]
     },
     "execution_count": 7,
     "metadata": {},
     "output_type": "execute_result"
    }
   ],
   "source": [
    "std.dtypes"
   ]
  },
  {
   "cell_type": "markdown",
   "id": "04dfb3bc",
   "metadata": {},
   "source": [
    "**We discover that almost all data entries are objects, hence there are a lot of errors.** <br>\n",
    "lets fix that, starting with the timestamp column"
   ]
  },
  {
   "cell_type": "code",
   "execution_count": 8,
   "id": "d3eb7161",
   "metadata": {},
   "outputs": [],
   "source": [
    "std.Timestamp = pd.to_datetime(std.Timestamp, errors='coerce')"
   ]
  },
  {
   "cell_type": "code",
   "execution_count": 9,
   "id": "153db076",
   "metadata": {},
   "outputs": [],
   "source": [
    "std.dropna(subset=['Timestamp'], inplace=True)"
   ]
  },
  {
   "cell_type": "code",
   "execution_count": 10,
   "id": "cff560ce",
   "metadata": {},
   "outputs": [
    {
     "name": "stdout",
     "output_type": "stream",
     "text": [
      "<class 'pandas.core.frame.DataFrame'>\n",
      "Index: 15672 entries, 0 to 15999\n",
      "Data columns (total 8 columns):\n",
      " #   Column              Non-Null Count  Dtype         \n",
      "---  ------              --------------  -----         \n",
      " 0   Timestamp           15672 non-null  datetime64[ns]\n",
      " 1   Student ID          15672 non-null  object        \n",
      " 2   Age                 14470 non-null  object        \n",
      " 3   Gender              14706 non-null  object        \n",
      " 4   Department          14895 non-null  object        \n",
      " 5   GPA                 14596 non-null  object        \n",
      " 6   Satisfaction (1-5)  14539 non-null  float64       \n",
      " 7   Comments            10927 non-null  object        \n",
      "dtypes: datetime64[ns](1), float64(1), object(6)\n",
      "memory usage: 1.1+ MB\n"
     ]
    }
   ],
   "source": [
    "#after using dropna and pd.to_datetime we check the info again\n",
    "std.info()"
   ]
  },
  {
   "cell_type": "markdown",
   "id": "f6fd1166",
   "metadata": {},
   "source": [
    "**As you can see from the latest info, we have the timestamp labelled as as a TYPE datetime64[ns]**"
   ]
  },
  {
   "cell_type": "markdown",
   "id": "303bccad",
   "metadata": {},
   "source": [
    "_lets work on the student id column next_"
   ]
  },
  {
   "cell_type": "code",
   "execution_count": 11,
   "id": "1bee348a",
   "metadata": {},
   "outputs": [],
   "source": [
    "# Lets work on the student id column next by adding an underscore to the column name for easy access\n",
    "std.rename(columns={'Student ID': 'Student_ID'}, inplace=True)\n",
    "#lets also make the id lowercase\n",
    "std.Student_ID = std.Student_ID.str.lower()\n",
    "# we can also remove any leading or trailing spaces\n",
    "std.Student_ID = std.Student_ID.str.strip()"
   ]
  },
  {
   "cell_type": "markdown",
   "id": "b5cde849",
   "metadata": {},
   "source": [
    "_lets work on the age column next_"
   ]
  },
  {
   "cell_type": "code",
   "execution_count": 12,
   "id": "8712bbbc",
   "metadata": {},
   "outputs": [],
   "source": [
    "# from the info above we can see that the age column is an object type which is not correct\n",
    "# we can convert it to numeric using pd.to_numeric\n",
    "std.Age = pd.to_numeric(std.Age, errors='coerce')\n",
    "\n",
    "std.Age.unique()\n",
    "# we can also see there are missing data and a lot oof outliers at age 100 and 15 which is impossible for a student\n",
    "# we can drop the missing data and filter out the outliers\n",
    "std.dropna(subset=['Age'], inplace=True)\n",
    "std = std[(std.Age >= 18) & (std.Age <= 60)]\n",
    "\n",
    "# finally we make sure the age is an integer type as age cannot be fractional\n",
    "std.Age = std.Age.astype(int)"
   ]
  },
  {
   "cell_type": "markdown",
   "id": "d1e492ef",
   "metadata": {},
   "source": [
    "_lets work on the gender column next_"
   ]
  },
  {
   "cell_type": "code",
   "execution_count": 13,
   "id": "d42c5e69",
   "metadata": {},
   "outputs": [
    {
     "name": "stdout",
     "output_type": "stream",
     "text": [
      "['Female' 'Male' 'Femal' 'Malee' 'Other' nan 'Othr']\n",
      "string\n",
      "<StringArray>\n",
      "['Female', 'Male', 'Other']\n",
      "Length: 3, dtype: string\n"
     ]
    }
   ],
   "source": [
    "# List unique values to verify\n",
    "print(std['Gender'].unique())\n",
    "\n",
    "# Correct typos and standardize values\n",
    "std['Gender'] = std['Gender'].replace({\n",
    "    'Femal': 'Female',\n",
    "    'Malee': 'Male',\n",
    "    'Othr': 'Other',\n",
    "    np.nan: 'Other'\n",
    "})\n",
    "\n",
    "# Ensure no remaining NaN (redundant due to replace, but kept for clarity)\n",
    "std['Gender'] = std['Gender'].fillna('Other')\n",
    "\n",
    "# Standardize case (first letter uppercase, rest lowercase)\n",
    "std['Gender'] = std['Gender'].str.title()\n",
    "\n",
    "# Convert to pandas string dtype\n",
    "std['Gender'] = std['Gender'].astype('string')\n",
    "\n",
    "# Verify dtype and values\n",
    "print(std['Gender'].dtype)  # Should be: string\n",
    "print(std['Gender'].unique())\n"
   ]
  },
  {
   "cell_type": "markdown",
   "id": "24e38c05",
   "metadata": {},
   "source": [
    "_lets work on the deparment columns next_"
   ]
  },
  {
   "cell_type": "code",
   "execution_count": 14,
   "id": "dfde6b69",
   "metadata": {},
   "outputs": [
    {
     "name": "stdout",
     "output_type": "stream",
     "text": [
      "['Marine Sci' 'Zoology' 'Mathematics' 'Chemistry' 'Geophysics'\n",
      " 'Computer Science' 'Botany' 'Biochemistry' 'Cell Biology and Genetics'\n",
      " 'Marine Sciences' nan 'Microbiology' 'Physics' 'Biochem' 'Maths' 'Phys'\n",
      " 'Geology' 'Bio' 'Cell Bio' 'Chem' 'Geophy' 'Geo' 'Zoo' 'Microbio'\n",
      " 'Comp Sci']\n",
      "string\n",
      "<StringArray>\n",
      "[          'Marine Sciences',                   'Zoology',\n",
      "               'Mathematics',                 'Chemistry',\n",
      "                'Geophysics',          'Computer Science',\n",
      "                    'Botany',              'Biochemistry',\n",
      " 'Cell Biology and Genetics',                'Undeclared',\n",
      "              'Microbiology',                   'Physics',\n",
      "                   'Geology',                   'Biology',\n",
      "               'Geosciences']\n",
      "Length: 15, dtype: string\n"
     ]
    }
   ],
   "source": [
    "# List unique values to verify replacements\n",
    "print(std['Department'].unique())\n",
    "\n",
    "# Replace typos and standardize values\n",
    "std['Department'] = std['Department'].replace({\n",
    "    np.nan: 'Undeclared',\n",
    "    'Marine Sci': 'Marine Sciences',\n",
    "    'Geo': 'Geosciences',\n",
    "    'Biochem': 'Biochemistry',\n",
    "    'Maths': 'Mathematics',\n",
    "    'Phys': 'Physics',\n",
    "    'Bio': 'Biology',\n",
    "    'Cell Bio': 'Cell Biology and Genetics',\n",
    "    'Chem': 'Chemistry',\n",
    "    'Geophy': 'Geophysics',\n",
    "    'Zoo': 'Zoology',\n",
    "    'Microbio': 'Microbiology',\n",
    "    'Comp Sci': 'Computer Science'\n",
    "})\n",
    "\n",
    "# Ensure no remaining NaN (already handled by replace)\n",
    "std['Department'] = std['Department'].fillna('Undeclared')\n",
    "\n",
    "# Convert to pandas string dtype (not object)\n",
    "std['Department'] = std['Department'].astype('string')\n",
    "\n",
    "# Verify dtype and values\n",
    "print(std['Department'].dtype)  # Should be: string\n",
    "print(std['Department'].unique())"
   ]
  },
  {
   "cell_type": "markdown",
   "id": "f5efcbb4",
   "metadata": {},
   "source": [
    "_lets work on the GPA columns next_"
   ]
  },
  {
   "cell_type": "code",
   "execution_count": 15,
   "id": "d28ac72d",
   "metadata": {},
   "outputs": [],
   "source": [
    "# from the samples i can see the GPA column has some non-numeric values like A, B, C, D and F, we can check for them\n",
    "std.GPA.unique()\n",
    "# then we can map them to the minimum equivalent numeric value\n",
    "std.GPA = std.GPA.replace({\n",
    "    'A': 4.5,\n",
    "    'B': 3.5,\n",
    "    'C': 3.0,\n",
    "    'D': 2.5,\n",
    "    'F': 1.5\n",
    "})\n",
    "\n",
    "# we can then convert the gpa column to numeric\n",
    "std.GPA = pd.to_numeric(std.GPA, errors='coerce')\n",
    "\n",
    "# secondly in order to maximize the data we can fill the missing gpa values with the interpolated values\n",
    "std.GPA = std.GPA.fillna(std.GPA.interpolate(method='linear'))\n",
    "std.GPA = std.GPA.round(2)\n",
    "\n",
    "# finally we remove the outliers < 1.0 in a 5.0 scale\n",
    "std = std[std.GPA >= 1.0]"
   ]
  },
  {
   "cell_type": "markdown",
   "id": "3b25b14e",
   "metadata": {},
   "source": [
    "_lets work on the satisfaction next by doing almost exactly the same thing with the GPA coluumn_"
   ]
  },
  {
   "cell_type": "code",
   "execution_count": null,
   "id": "6e8e1355",
   "metadata": {},
   "outputs": [
    {
     "name": "stdout",
     "output_type": "stream",
     "text": [
      "<class 'pandas.core.frame.DataFrame'>\n",
      "Index: 9908 entries, 1 to 15999\n",
      "Data columns (total 8 columns):\n",
      " #   Column              Non-Null Count  Dtype         \n",
      "---  ------              --------------  -----         \n",
      " 0   Timestamp           9908 non-null   datetime64[ns]\n",
      " 1   Student_ID          9908 non-null   object        \n",
      " 2   Age                 9908 non-null   int64         \n",
      " 3   Gender              9908 non-null   string        \n",
      " 4   Department          9908 non-null   string        \n",
      " 5   GPA                 9908 non-null   float64       \n",
      " 6   Satisfaction (1-5)  9908 non-null   float64       \n",
      " 7   Comments            6894 non-null   object        \n",
      "dtypes: datetime64[ns](1), float64(2), int64(1), object(2), string(2)\n",
      "memory usage: 696.7+ KB\n"
     ]
    }
   ],
   "source": [
    "# we fill the missing values with the linear interpolation\n",
    "std['Satisfaction (1-5)'] = std['Satisfaction (1-5)'].fillna(std['Satisfaction (1-5)'].interpolate(method='linear'))\n",
    "std['Satisfaction (1-5)'] = std['Satisfaction (1-5)'].round(2)\n",
    "\n",
    "# finally we remove the outliers < 1.0 in a 5.0 scale\n",
    "std = std[std['Satisfaction (1-5)'] >= 1.0]"
   ]
  },
  {
   "cell_type": "markdown",
   "id": "55da0873",
   "metadata": {},
   "source": [
    "***Finally lets work on the comments column***"
   ]
  },
  {
   "cell_type": "code",
   "execution_count": 42,
   "id": "67f38db8",
   "metadata": {},
   "outputs": [],
   "source": [
    "# Firstly we check for unique comments\n",
    "std.Comments.unique()\n",
    "\n",
    "# since we have no unique comments, we align them to look like each other\n",
    "std['Comments'] = std['Comments'].fillna(\"The course was great!\")\n",
    "\n",
    "# before identifying the comments, let's arrange the dataframe by date\n",
    "std = std.sort_values('Timestamp', ascending=True).reset_index(drop=True)\n",
    "\n",
    "def comments_standardize(id, text):\n",
    "    # Handle spam comments\n",
    "    if isinstance(text, str) and text.startswith('This is spam'):\n",
    "        return f'Comment {id}: The course was great!'\n",
    "    # Handle comments with 'Comment <number>: ...' format\n",
    "    elif isinstance(text, str) and text.startswith('Comment'):\n",
    "        # Extract text after 'Comment <number>: '\n",
    "        parts = text.split(':', 1)\n",
    "        if len(parts) > 1:\n",
    "            return f'Comment {id}: {parts[1].strip()}'\n",
    "        return f'Comment {id}: No comment'\n",
    "    # Handle empty or other comments\n",
    "    elif isinstance(text, str) and text.strip():\n",
    "        return f'Comment {id}: {text.strip()}'\n",
    "    else:\n",
    "        return f'Comment {id}: No comment'\n",
    "    \n",
    "\n",
    "# Apply the function to standardize comments\n",
    "std['Comments'] = [comments_standardize(i, txt) for i, txt in enumerate(std['Comments'])]\n",
    "std.Comments = std.Comments.astype('string')\n",
    "\n"
   ]
  },
  {
   "cell_type": "markdown",
   "id": "6c782445",
   "metadata": {},
   "source": [
    "**Lets then make some finishing touches to the dataframe**"
   ]
  },
  {
   "cell_type": "code",
   "execution_count": 47,
   "id": "a36e41e4",
   "metadata": {},
   "outputs": [],
   "source": [
    "# Unfortunantely i can't think of any feature engineering to do on this dataset so we will just save the cleaned dataframe to a new csv file\n",
    "std.to_csv('../data/cleaned/cleaned_student_data.csv', index=False)\n",
    "std.to_excel('../data/cleaned/cleaned_student_data.xlsx', index=False, sheet_name='Cleaned Student Data')"
   ]
  }
 ],
 "metadata": {
  "kernelspec": {
   "display_name": "venv",
   "language": "python",
   "name": "python3"
  },
  "language_info": {
   "codemirror_mode": {
    "name": "ipython",
    "version": 3
   },
   "file_extension": ".py",
   "mimetype": "text/x-python",
   "name": "python",
   "nbconvert_exporter": "python",
   "pygments_lexer": "ipython3",
   "version": "3.13.3"
  }
 },
 "nbformat": 4,
 "nbformat_minor": 5
}
